{
 "cells": [
  {
   "cell_type": "markdown",
   "id": "796bb231",
   "metadata": {},
   "source": [
    "# Dataset Preparation & Management - IRST Library\n",
    "## Custom Datasets, Advanced Augmentation & Data Quality\n",
    "\n",
    "Master the art of dataset preparation for infrared small target detection! This comprehensive guide covers everything from custom dataset creation to advanced augmentation strategies.\n",
    "\n",
    "### 📊 **Supported Datasets:**\n",
    "- **SIRST** - Single-frame infrared small target dataset (427 train, 142 test images)\n",
    "- **IRSTD-1k** - Large-scale dataset with 1,000 high-quality images\n",
    "- **NUDT-SIRST** - Multi-scene dataset with 10,000+ images\n",
    "- **IRSTD-1k-plus** - Extended version with temporal sequences\n",
    "- **Custom datasets** - Create your own datasets from scratch\n",
    "\n",
    "### 🎯 **What you'll learn:**\n",
    "- 📁 **Dataset Organization** - Proper folder structure and annotation formats\n",
    "- 🔧 **Custom Dataset Creation** - Build datasets from raw infrared images\n",
    "- 🎨 **Advanced Augmentation** - Domain-specific augmentation strategies\n",
    "- 📊 **Data Quality Analysis** - Identify and fix data quality issues\n",
    "- ⚖️ **Dataset Splitting** - Proper train/validation/test splitting strategies\n",
    "- 🔍 **Data Visualization** - Comprehensive dataset exploration and analysis\n",
    "- 📈 **Performance Impact** - How data quality affects model performance\n",
    "- 🏷️ **Annotation Tools** - Semi-automated annotation workflows\n",
    "\n",
    "### 🛠️ **Tools & Techniques:**\n",
    "- **Albumentations** - Advanced augmentation library\n",
    "- **OpenCV** - Image processing and manipulation\n",
    "- **LabelMe/CVAT** - Annotation tools integration\n",
    "- **Data validation** - Automated quality checks\n",
    "- **Synthetic data** - Generate additional training samples"
   ]
  }
 ],
 "metadata": {
  "language_info": {
   "name": "python"
  }
 },
 "nbformat": 4,
 "nbformat_minor": 5
}
